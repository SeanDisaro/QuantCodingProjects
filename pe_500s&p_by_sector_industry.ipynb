{
 "cells": [
  {
   "cell_type": "markdown",
   "id": "a3eaac37",
   "metadata": {},
   "source": [
    "# Screening based on pe ratio relative to sector and industry for S&P500\n",
    "\n",
    "We scrape tickers of S&P500 companies from wikipedia, then we compare which companies have the lowest pe ratio relative to their industry and sector. We get the pe ratio from yahoo finance. The results are then displayed with histograms."
   ]
  },
  {
   "cell_type": "code",
   "execution_count": 1,
   "id": "aa21aea8",
   "metadata": {},
   "outputs": [],
   "source": [
    "import requests\n",
    "from bs4 import BeautifulSoup\n",
    "import pandas as pd\n",
    "import matplotlib.pyplot as plt\n",
    "import yfinance as yf\n",
    "import numpy as np\n"
   ]
  },
  {
   "cell_type": "code",
   "execution_count": 2,
   "id": "6c3e00b4",
   "metadata": {},
   "outputs": [],
   "source": [
    "URL = \"https://en.wikipedia.org/wiki/List_of_S%26P_500_companies\""
   ]
  },
  {
   "cell_type": "code",
   "execution_count": null,
   "id": "aae098b6",
   "metadata": {},
   "outputs": [],
   "source": [
    "tables = pd.read_html(URL)\n",
    "\n",
    "sp500_Symbols = list(tables[0][\"Symbol\"]) \n",
    "#these two companies were only listed as their b stock\n",
    "#sp500_Symbols.append(\"BF\")\n",
    "#sp500_Symbols.append(\"BRK\")"
   ]
  },
  {
   "cell_type": "code",
   "execution_count": 4,
   "id": "fbbf2bcf",
   "metadata": {},
   "outputs": [
    {
     "name": "stdout",
     "output_type": "stream",
     "text": [
      "-----------------------------------------------------------------------------\n",
      "error occured with data related to BRK.B\n",
      "industry not found\n",
      "sector not found\n",
      "forwardPE not found\n",
      "-----------------------------------------------------------------------------\n",
      "error occured with data related to BF.B\n",
      "industry not found\n",
      "sector not found\n",
      "forwardPE not found\n",
      "-----------------------------------------------------------------------------\n",
      "error occured with data related to BF\n",
      "industry not found\n",
      "sector not found\n",
      "forwardPE not found\n",
      "-----------------------------------------------------------------------------\n",
      "error occured with data related to BRK\n",
      "industry not found\n",
      "sector not found\n",
      "forwardPE not found\n"
     ]
    }
   ],
   "source": [
    "data = pd.DataFrame(columns=('symbol', 'industry', 'sector', 'pe'))\n",
    "\n",
    "for i in range(len(sp500_Symbols)):\n",
    "    symb = sp500_Symbols[i]\n",
    "    stock = yf.Ticker(symb)\n",
    "    info = stock.get_info()\n",
    "    try:\n",
    "        data.loc[i] = [symb,info[\"industry\"],  info[\"sector\"] ,info[\"forwardPE\"]]\n",
    "    except:\n",
    "        print(\"-----------------------------------------------------------------------------\")\n",
    "        print(\"error occured with data related to \" + symb)\n",
    "        try:\n",
    "            info[\"industry\"]\n",
    "        except:\n",
    "            print(\"industry not found\")\n",
    "        try:\n",
    "            info[\"sector\"]\n",
    "        except:\n",
    "            print(\"sector not found\")\n",
    "        try:\n",
    "            info[\"forwardPE\"]\n",
    "        except:\n",
    "            print(\"forwardPE not found\")\n",
    "        \n",
    "    "
   ]
  },
  {
   "cell_type": "code",
   "execution_count": 5,
   "id": "6d04b753",
   "metadata": {},
   "outputs": [
    {
     "name": "stdout",
     "output_type": "stream",
     "text": [
      "Num Companies befor filter...... 501\n",
      "Num Companies after filter...... 499\n"
     ]
    }
   ],
   "source": [
    "# drop companies with negative pe ratio\n",
    "print(f\"Num Companies befor filter...... {len(data)}\")\n",
    "\n",
    "df_filtered = data[data['pe'] > 0]\n",
    "\n",
    "print(f\"Num Companies after filter...... {len(df_filtered)}\")"
   ]
  },
  {
   "cell_type": "code",
   "execution_count": 69,
   "id": "87366ab8",
   "metadata": {},
   "outputs": [],
   "source": [
    "data_grouped_by_industry = [group.reset_index() for _, group in df_filtered.groupby('industry')]"
   ]
  },
  {
   "cell_type": "code",
   "execution_count": 70,
   "id": "6267d808",
   "metadata": {},
   "outputs": [
    {
     "data": {
      "text/html": [
       "<div>\n",
       "<style scoped>\n",
       "    .dataframe tbody tr th:only-of-type {\n",
       "        vertical-align: middle;\n",
       "    }\n",
       "\n",
       "    .dataframe tbody tr th {\n",
       "        vertical-align: top;\n",
       "    }\n",
       "\n",
       "    .dataframe thead th {\n",
       "        text-align: right;\n",
       "    }\n",
       "</style>\n",
       "<table border=\"1\" class=\"dataframe\">\n",
       "  <thead>\n",
       "    <tr style=\"text-align: right;\">\n",
       "      <th></th>\n",
       "      <th>index</th>\n",
       "      <th>symbol</th>\n",
       "      <th>industry</th>\n",
       "      <th>sector</th>\n",
       "      <th>pe</th>\n",
       "    </tr>\n",
       "  </thead>\n",
       "  <tbody>\n",
       "    <tr>\n",
       "      <th>0</th>\n",
       "      <td>30</td>\n",
       "      <td>AMP</td>\n",
       "      <td>Asset Management</td>\n",
       "      <td>Financial Services</td>\n",
       "      <td>13.316076</td>\n",
       "    </tr>\n",
       "    <tr>\n",
       "      <th>1</th>\n",
       "      <td>37</td>\n",
       "      <td>APO</td>\n",
       "      <td>Asset Management</td>\n",
       "      <td>Financial Services</td>\n",
       "      <td>16.534788</td>\n",
       "    </tr>\n",
       "    <tr>\n",
       "      <th>2</th>\n",
       "      <td>63</td>\n",
       "      <td>BLK</td>\n",
       "      <td>Asset Management</td>\n",
       "      <td>Financial Services</td>\n",
       "      <td>23.565989</td>\n",
       "    </tr>\n",
       "    <tr>\n",
       "      <th>3</th>\n",
       "      <td>64</td>\n",
       "      <td>BX</td>\n",
       "      <td>Asset Management</td>\n",
       "      <td>Financial Services</td>\n",
       "      <td>29.845627</td>\n",
       "    </tr>\n",
       "    <tr>\n",
       "      <th>4</th>\n",
       "      <td>204</td>\n",
       "      <td>BEN</td>\n",
       "      <td>Asset Management</td>\n",
       "      <td>Financial Services</td>\n",
       "      <td>9.855769</td>\n",
       "    </tr>\n",
       "    <tr>\n",
       "      <th>5</th>\n",
       "      <td>256</td>\n",
       "      <td>IVZ</td>\n",
       "      <td>Asset Management</td>\n",
       "      <td>Financial Services</td>\n",
       "      <td>11.235450</td>\n",
       "    </tr>\n",
       "    <tr>\n",
       "      <th>6</th>\n",
       "      <td>275</td>\n",
       "      <td>KKR</td>\n",
       "      <td>Asset Management</td>\n",
       "      <td>Financial Services</td>\n",
       "      <td>24.069193</td>\n",
       "    </tr>\n",
       "    <tr>\n",
       "      <th>7</th>\n",
       "      <td>341</td>\n",
       "      <td>NTRS</td>\n",
       "      <td>Asset Management</td>\n",
       "      <td>Financial Services</td>\n",
       "      <td>16.742147</td>\n",
       "    </tr>\n",
       "    <tr>\n",
       "      <th>8</th>\n",
       "      <td>377</td>\n",
       "      <td>PFG</td>\n",
       "      <td>Asset Management</td>\n",
       "      <td>Financial Services</td>\n",
       "      <td>9.227488</td>\n",
       "    </tr>\n",
       "    <tr>\n",
       "      <th>9</th>\n",
       "      <td>390</td>\n",
       "      <td>RJF</td>\n",
       "      <td>Asset Management</td>\n",
       "      <td>Financial Services</td>\n",
       "      <td>14.747755</td>\n",
       "    </tr>\n",
       "    <tr>\n",
       "      <th>10</th>\n",
       "      <td>422</td>\n",
       "      <td>STT</td>\n",
       "      <td>Asset Management</td>\n",
       "      <td>Financial Services</td>\n",
       "      <td>12.149357</td>\n",
       "    </tr>\n",
       "    <tr>\n",
       "      <th>11</th>\n",
       "      <td>431</td>\n",
       "      <td>TROW</td>\n",
       "      <td>Asset Management</td>\n",
       "      <td>Financial Services</td>\n",
       "      <td>11.660962</td>\n",
       "    </tr>\n",
       "  </tbody>\n",
       "</table>\n",
       "</div>"
      ],
      "text/plain": [
       "    index symbol          industry              sector         pe\n",
       "0      30    AMP  Asset Management  Financial Services  13.316076\n",
       "1      37    APO  Asset Management  Financial Services  16.534788\n",
       "2      63    BLK  Asset Management  Financial Services  23.565989\n",
       "3      64     BX  Asset Management  Financial Services  29.845627\n",
       "4     204    BEN  Asset Management  Financial Services   9.855769\n",
       "5     256    IVZ  Asset Management  Financial Services  11.235450\n",
       "6     275    KKR  Asset Management  Financial Services  24.069193\n",
       "7     341   NTRS  Asset Management  Financial Services  16.742147\n",
       "8     377    PFG  Asset Management  Financial Services   9.227488\n",
       "9     390    RJF  Asset Management  Financial Services  14.747755\n",
       "10    422    STT  Asset Management  Financial Services  12.149357\n",
       "11    431   TROW  Asset Management  Financial Services  11.660962"
      ]
     },
     "execution_count": 70,
     "metadata": {},
     "output_type": "execute_result"
    }
   ],
   "source": [
    "data_grouped_by_industry[6]"
   ]
  },
  {
   "cell_type": "code",
   "execution_count": 71,
   "id": "23ab8523",
   "metadata": {},
   "outputs": [],
   "source": [
    "mean_sd_pe_per_industry = []\n",
    "companies_under_std = []\n",
    "for i in range(len(data_grouped_by_industry)):\n",
    "    pe_industry = data_grouped_by_industry[i][\"pe\"]\n",
    "    mean =  (np.mean(pe_industry).item())\n",
    "    std  = np.std(pe_industry).item()\n",
    "    mean_sd_pe_per_industry.append((mean, std))\n",
    "    # get all companies which are at leas one standard deviation under the mean of the industry:\n",
    "    threshold = mean - std\n",
    "    companies_under_std.append(data_grouped_by_industry[i][data_grouped_by_industry[i][\"pe\"] < threshold])"
   ]
  },
  {
   "cell_type": "code",
   "execution_count": 72,
   "id": "1663410a",
   "metadata": {},
   "outputs": [],
   "source": [
    "companies_under_std = [df  for df in companies_under_std]\n",
    "filtered_companies_under_std = []\n",
    "for df in companies_under_std:\n",
    "    if not df.empty:\n",
    "        filtered_companies_under_std.append(df)\n"
   ]
  },
  {
   "cell_type": "code",
   "execution_count": 84,
   "id": "10ebb49b",
   "metadata": {},
   "outputs": [
    {
     "name": "stdout",
     "output_type": "stream",
     "text": [
      "Found companies with low industry pe in the following industries:\n",
      "Apparel Retail\n",
      "Asset Management\n",
      "Auto Parts\n",
      "Banks - Diversified\n",
      "Banks - Regional\n",
      "Biotechnology\n",
      "Building Products & Equipment\n",
      "Capital Markets\n",
      "Communication Equipment\n",
      "Computer Hardware\n",
      "Consulting Services\n",
      "Credit Services\n",
      "Discount Stores\n",
      "Drug Manufacturers - General\n",
      "Entertainment\n",
      "Farm & Heavy Construction Machinery\n",
      "Farm Products\n",
      "Healthcare Plans\n",
      "Information Technology Services\n",
      "Insurance Brokers\n",
      "Integrated Freight & Logistics\n",
      "Internet Content & Information\n",
      "Medical Care Facilities\n",
      "Medical Devices\n",
      "Medical Distribution\n",
      "Oil & Gas E&P\n",
      "Oil & Gas Midstream\n",
      "Oil & Gas Refining & Marketing\n",
      "Packaging & Containers\n",
      "REIT - Industrial\n",
      "REIT - Retail\n",
      "Railroads\n",
      "Real Estate Services\n",
      "Resorts & Casinos\n",
      "Restaurants\n",
      "Scientific & Technical Instruments\n",
      "Semiconductor Equipment & Materials\n",
      "Semiconductors\n",
      "Software - Application\n",
      "Specialty Business Services\n",
      "Specialty Chemicals\n",
      "Specialty Retail\n",
      "Steel\n",
      "Tobacco\n",
      "Tools & Accessories\n",
      "Travel Services\n",
      "Utilities - Regulated Electric\n"
     ]
    }
   ],
   "source": [
    "relevantIndustries = []\n",
    "print(\"Found companies with low industry pe in the following industries:\")\n",
    "for df in filtered_companies_under_std:\n",
    "    industry = df.reset_index().loc[0][\"industry\"]\n",
    "    print(industry)\n",
    "    relevantIndustries.append(industry)"
   ]
  },
  {
   "cell_type": "markdown",
   "id": "0a9a7a83",
   "metadata": {},
   "source": [
    "## Select Your prefered Industry:"
   ]
  },
  {
   "cell_type": "code",
   "execution_count": 125,
   "id": "662a2fe8",
   "metadata": {},
   "outputs": [],
   "source": [
    "industry = \"Scientific & Technical Instruments\""
   ]
  },
  {
   "cell_type": "code",
   "execution_count": 126,
   "id": "780a7f87",
   "metadata": {},
   "outputs": [],
   "source": [
    "idx_industry = 0\n",
    "for i in range(len(data_grouped_by_industry)):\n",
    "    if industry == data_grouped_by_industry[i].reset_index().loc[0][\"industry\"]:\n",
    "        idx_industry = i\n",
    "        break\n",
    "else:\n",
    "    print(\"industry not found. please check if you selected a valid industry\")"
   ]
  },
  {
   "cell_type": "code",
   "execution_count": 127,
   "id": "a1ec6c4d",
   "metadata": {},
   "outputs": [],
   "source": [
    "companiesToPlot = data_grouped_by_industry[idx_industry]"
   ]
  },
  {
   "cell_type": "code",
   "execution_count": 128,
   "id": "e09377f7",
   "metadata": {},
   "outputs": [
    {
     "data": {
      "text/plain": [
       "<Figure size 640x480 with 0 Axes>"
      ]
     },
     "metadata": {},
     "output_type": "display_data"
    },
    {
     "data": {
      "image/png": "[encoded data removed]",
      "text/plain": [
       "<Figure size 640x480 with 1 Axes>"
      ]
     },
     "metadata": {},
     "output_type": "display_data"
    }
   ],
   "source": [
    "plt.clf()\n",
    "ax = companiesToPlot.plot.bar(x='symbol', y='pe', rot=0)\n",
    "plt.hlines(mean_sd_pe_per_industry[idx_industry][0], xmax=10, xmin=-10, colors=\"r\", label= \"mean\")\n",
    "plt.hlines(mean_sd_pe_per_industry[idx_industry][0] - mean_sd_pe_per_industry[idx_industry][1], xmax=10, xmin=-10, colors=\"g\", label= \"1std below mean\")\n",
    "plt.title(f'Plot of pe of all companies in \"{industry}\" industry from S&P500:')\n",
    "plt.legend()\n",
    "plt.show()"
   ]
  },
  {
   "cell_type": "code",
   "execution_count": null,
   "id": "0aaec83c",
   "metadata": {},
   "outputs": [],
   "source": []
  }
 ],
 "metadata": {
  "kernelspec": {
   "display_name": "quant",
   "language": "python",
   "name": "python3"
  },
  "language_info": {
   "codemirror_mode": {
    "name": "ipython",
    "version": 3
   },
   "file_extension": ".py",
   "mimetype": "text/x-python",
   "name": "python",
   "nbconvert_exporter": "python",
   "pygments_lexer": "ipython3",
   "version": "3.13.5"
  }
 },
 "nbformat": 4,
 "nbformat_minor": 5
}
