{
 "cells": [
  {
   "cell_type": "code",
   "execution_count": 94,
   "id": "92941660",
   "metadata": {},
   "outputs": [
    {
     "name": "stdout",
     "output_type": "stream",
     "text": [
      "NVIDIA Peer Group News\n"
     ]
    }
   ],
   "source": [
    "import requests\n",
    "from bs4 import BeautifulSoup\n",
    "from PIL import Image, ImageDraw, ImageFont\n",
    "baseUrl = \"https://markets.businessinsider.com/\"\n",
    "url =\"https://markets.businessinsider.com/news/nvda-stock\"\n",
    "response = requests.get(url)\n",
    "\n",
    "if response.status_code == 200:\n",
    "    soup = BeautifulSoup(response.content, \"html.parser\")\n",
    "    headlines = soup.find_all(\"h2\")\n",
    "    for headline in headlines:\n",
    "        print(headline.text)\n",
    "        break\n",
    "else:\n",
    "    print(\"error\")"
   ]
  },
  {
   "cell_type": "code",
   "execution_count": 113,
   "id": "78bc7faa",
   "metadata": {},
   "outputs": [],
   "source": [
    "numArticles = 3\n",
    "news_items = soup.find_all('div', class_='latest-news__story', limit=numArticles)"
   ]
  },
  {
   "cell_type": "code",
   "execution_count": 118,
   "id": "62800882",
   "metadata": {},
   "outputs": [
    {
     "name": "stdout",
     "output_type": "stream",
     "text": [
      "https://markets.businessinsider.com//news/stocks/why-hsbc-is-cautious-on-nvidia-stock-nvda-ahead-of-q2-results-1035061400\n",
      "https://markets.businessinsider.com//news/stocks/new-buy-rating-for-nvidia-nvda-the-technology-giant-1035060785\n",
      "https://markets.businessinsider.com//news/stocks/tech-stocks-fall-as-investors-begin-to-question-the-ai-hype-1035059369\n"
     ]
    }
   ],
   "source": [
    "for i in range(numArticles):\n",
    "    for a in news_items[i].find_all('a', href=True):\n",
    "        print(baseUrl + a[\"href\"])\n",
    "        responseArticle = requests.get(baseUrl + a[\"href\"])\n",
    "        soupArticle = BeautifulSoup(responseArticle.content, \"html.parser\")\n",
    "        paragraphs = soupArticle.find_all(\"p\")\n",
    "        txt = [p.get_text() for p in paragraphs]\n",
    "        \n",
    "        with open(\"./articles/article_\" + str(i)+\".txt\",\"a\") as f:\n",
    "            f.write(\"\".join(txt))"
   ]
  },
  {
   "cell_type": "code",
   "execution_count": null,
   "id": "5a328768",
   "metadata": {},
   "outputs": [],
   "source": [
    "response2 = requests.get(url)"
   ]
  },
  {
   "cell_type": "code",
   "execution_count": null,
   "id": "c19f07ff",
   "metadata": {},
   "outputs": [],
   "source": []
  }
 ],
 "metadata": {
  "kernelspec": {
   "display_name": "quant",
   "language": "python",
   "name": "python3"
  },
  "language_info": {
   "codemirror_mode": {
    "name": "ipython",
    "version": 3
   },
   "file_extension": ".py",
   "mimetype": "text/x-python",
   "name": "python",
   "nbconvert_exporter": "python",
   "pygments_lexer": "ipython3",
   "version": "3.13.5"
  }
 },
 "nbformat": 4,
 "nbformat_minor": 5
}
