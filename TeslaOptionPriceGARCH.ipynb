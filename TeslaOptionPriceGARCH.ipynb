{
 "cells": [
  {
   "cell_type": "markdown",
   "id": "434af163",
   "metadata": {},
   "source": [
    "# Model Tesla Options and GARCH\n",
    "\n",
    "The goal of this notebook is to make a good prediction of what the average volatility will be in some horizon. We will use this volatility to predict opion prices for the Tesla stock and see if they deviate much from what the option price under Black Scholes would yield, if we used the volatility just the initial time. We get the data from yahoo finance.\n",
    "\n",
    "The GARCH(p,q) model states as:\n",
    "\n",
    "$$x_t= \\varepsilon _t \\sigma $$\n",
    "\n",
    "$$\\sigma ^2= a _0 + \\sum \\limits _{i = 1} ^p a_i x^2 _{t - p} + \\sum \\limits _{i = 1} ^p b_i \\sigma^2 _{t - i} $$"
   ]
  },
  {
   "cell_type": "code",
   "execution_count": 1,
   "id": "347a379c",
   "metadata": {},
   "outputs": [],
   "source": [
    "import numpy as np\n",
    "from random import gauss\n",
    "import datetime\n",
    "import yfinance as yf\n",
    "import pandas as pd\n",
    "import matplotlib .pyplot as plt\n",
    "from arch import arch_model\n",
    "from statsmodels.graphics.tsaplots import plot_acf, plot_pacf"
   ]
  },
  {
   "cell_type": "markdown",
   "id": "e133f76b",
   "metadata": {},
   "source": [
    "### Get Data"
   ]
  },
  {
   "cell_type": "code",
   "execution_count": 2,
   "id": "780baec8",
   "metadata": {},
   "outputs": [],
   "source": [
    "tesla = yf.Ticker(\"TSLA\")\n",
    "start_date = datetime.datetime(2020, 1, 1)\n",
    "end_date = datetime.datetime.now().date()\n",
    "data = tesla.history(start=start_date, end=end_date)"
   ]
  },
  {
   "cell_type": "code",
   "execution_count": 3,
   "id": "a71ff122",
   "metadata": {},
   "outputs": [
    {
     "data": {
      "text/html": [
       "<div>\n",
       "<style scoped>\n",
       "    .dataframe tbody tr th:only-of-type {\n",
       "        vertical-align: middle;\n",
       "    }\n",
       "\n",
       "    .dataframe tbody tr th {\n",
       "        vertical-align: top;\n",
       "    }\n",
       "\n",
       "    .dataframe thead th {\n",
       "        text-align: right;\n",
       "    }\n",
       "</style>\n",
       "<table border=\"1\" class=\"dataframe\">\n",
       "  <thead>\n",
       "    <tr style=\"text-align: right;\">\n",
       "      <th></th>\n",
       "      <th>Open</th>\n",
       "      <th>High</th>\n",
       "      <th>Low</th>\n",
       "      <th>Close</th>\n",
       "      <th>Volume</th>\n",
       "      <th>Dividends</th>\n",
       "      <th>Stock Splits</th>\n",
       "    </tr>\n",
       "    <tr>\n",
       "      <th>Date</th>\n",
       "      <th></th>\n",
       "      <th></th>\n",
       "      <th></th>\n",
       "      <th></th>\n",
       "      <th></th>\n",
       "      <th></th>\n",
       "      <th></th>\n",
       "    </tr>\n",
       "  </thead>\n",
       "  <tbody>\n",
       "    <tr>\n",
       "      <th>2020-01-02 00:00:00-05:00</th>\n",
       "      <td>28.299999</td>\n",
       "      <td>28.713333</td>\n",
       "      <td>28.114000</td>\n",
       "      <td>28.684000</td>\n",
       "      <td>142981500</td>\n",
       "      <td>0.0</td>\n",
       "      <td>0.0</td>\n",
       "    </tr>\n",
       "    <tr>\n",
       "      <th>2020-01-03 00:00:00-05:00</th>\n",
       "      <td>29.366667</td>\n",
       "      <td>30.266666</td>\n",
       "      <td>29.128000</td>\n",
       "      <td>29.534000</td>\n",
       "      <td>266677500</td>\n",
       "      <td>0.0</td>\n",
       "      <td>0.0</td>\n",
       "    </tr>\n",
       "    <tr>\n",
       "      <th>2020-01-06 00:00:00-05:00</th>\n",
       "      <td>29.364668</td>\n",
       "      <td>30.104000</td>\n",
       "      <td>29.333332</td>\n",
       "      <td>30.102667</td>\n",
       "      <td>151995000</td>\n",
       "      <td>0.0</td>\n",
       "      <td>0.0</td>\n",
       "    </tr>\n",
       "    <tr>\n",
       "      <th>2020-01-07 00:00:00-05:00</th>\n",
       "      <td>30.760000</td>\n",
       "      <td>31.441999</td>\n",
       "      <td>30.224001</td>\n",
       "      <td>31.270666</td>\n",
       "      <td>268231500</td>\n",
       "      <td>0.0</td>\n",
       "      <td>0.0</td>\n",
       "    </tr>\n",
       "    <tr>\n",
       "      <th>2020-01-08 00:00:00-05:00</th>\n",
       "      <td>31.580000</td>\n",
       "      <td>33.232666</td>\n",
       "      <td>31.215334</td>\n",
       "      <td>32.809334</td>\n",
       "      <td>467164500</td>\n",
       "      <td>0.0</td>\n",
       "      <td>0.0</td>\n",
       "    </tr>\n",
       "    <tr>\n",
       "      <th>...</th>\n",
       "      <td>...</td>\n",
       "      <td>...</td>\n",
       "      <td>...</td>\n",
       "      <td>...</td>\n",
       "      <td>...</td>\n",
       "      <td>...</td>\n",
       "      <td>...</td>\n",
       "    </tr>\n",
       "    <tr>\n",
       "      <th>2025-08-06 00:00:00-04:00</th>\n",
       "      <td>307.890015</td>\n",
       "      <td>320.470001</td>\n",
       "      <td>306.929993</td>\n",
       "      <td>319.910004</td>\n",
       "      <td>78523600</td>\n",
       "      <td>0.0</td>\n",
       "      <td>0.0</td>\n",
       "    </tr>\n",
       "    <tr>\n",
       "      <th>2025-08-07 00:00:00-04:00</th>\n",
       "      <td>319.790009</td>\n",
       "      <td>322.399994</td>\n",
       "      <td>316.160004</td>\n",
       "      <td>322.269989</td>\n",
       "      <td>66658700</td>\n",
       "      <td>0.0</td>\n",
       "      <td>0.0</td>\n",
       "    </tr>\n",
       "    <tr>\n",
       "      <th>2025-08-08 00:00:00-04:00</th>\n",
       "      <td>321.429993</td>\n",
       "      <td>335.149994</td>\n",
       "      <td>320.980011</td>\n",
       "      <td>329.649994</td>\n",
       "      <td>91200300</td>\n",
       "      <td>0.0</td>\n",
       "      <td>0.0</td>\n",
       "    </tr>\n",
       "    <tr>\n",
       "      <th>2025-08-11 00:00:00-04:00</th>\n",
       "      <td>335.000000</td>\n",
       "      <td>346.640015</td>\n",
       "      <td>334.149994</td>\n",
       "      <td>339.029999</td>\n",
       "      <td>105320200</td>\n",
       "      <td>0.0</td>\n",
       "      <td>0.0</td>\n",
       "    </tr>\n",
       "    <tr>\n",
       "      <th>2025-08-12 00:00:00-04:00</th>\n",
       "      <td>345.000000</td>\n",
       "      <td>345.260010</td>\n",
       "      <td>332.940002</td>\n",
       "      <td>340.839996</td>\n",
       "      <td>80522100</td>\n",
       "      <td>0.0</td>\n",
       "      <td>0.0</td>\n",
       "    </tr>\n",
       "  </tbody>\n",
       "</table>\n",
       "<p>1410 rows × 7 columns</p>\n",
       "</div>"
      ],
      "text/plain": [
       "                                 Open        High         Low       Close  \\\n",
       "Date                                                                        \n",
       "2020-01-02 00:00:00-05:00   28.299999   28.713333   28.114000   28.684000   \n",
       "2020-01-03 00:00:00-05:00   29.366667   30.266666   29.128000   29.534000   \n",
       "2020-01-06 00:00:00-05:00   29.364668   30.104000   29.333332   30.102667   \n",
       "2020-01-07 00:00:00-05:00   30.760000   31.441999   30.224001   31.270666   \n",
       "2020-01-08 00:00:00-05:00   31.580000   33.232666   31.215334   32.809334   \n",
       "...                               ...         ...         ...         ...   \n",
       "2025-08-06 00:00:00-04:00  307.890015  320.470001  306.929993  319.910004   \n",
       "2025-08-07 00:00:00-04:00  319.790009  322.399994  316.160004  322.269989   \n",
       "2025-08-08 00:00:00-04:00  321.429993  335.149994  320.980011  329.649994   \n",
       "2025-08-11 00:00:00-04:00  335.000000  346.640015  334.149994  339.029999   \n",
       "2025-08-12 00:00:00-04:00  345.000000  345.260010  332.940002  340.839996   \n",
       "\n",
       "                              Volume  Dividends  Stock Splits  \n",
       "Date                                                           \n",
       "2020-01-02 00:00:00-05:00  142981500        0.0           0.0  \n",
       "2020-01-03 00:00:00-05:00  266677500        0.0           0.0  \n",
       "2020-01-06 00:00:00-05:00  151995000        0.0           0.0  \n",
       "2020-01-07 00:00:00-05:00  268231500        0.0           0.0  \n",
       "2020-01-08 00:00:00-05:00  467164500        0.0           0.0  \n",
       "...                              ...        ...           ...  \n",
       "2025-08-06 00:00:00-04:00   78523600        0.0           0.0  \n",
       "2025-08-07 00:00:00-04:00   66658700        0.0           0.0  \n",
       "2025-08-08 00:00:00-04:00   91200300        0.0           0.0  \n",
       "2025-08-11 00:00:00-04:00  105320200        0.0           0.0  \n",
       "2025-08-12 00:00:00-04:00   80522100        0.0           0.0  \n",
       "\n",
       "[1410 rows x 7 columns]"
      ]
     },
     "execution_count": 3,
     "metadata": {},
     "output_type": "execute_result"
    }
   ],
   "source": [
    "data"
   ]
  },
  {
   "cell_type": "code",
   "execution_count": 4,
   "id": "4faf6082",
   "metadata": {},
   "outputs": [
    {
     "data": {
      "text/plain": [
       "np.False_"
      ]
     },
     "execution_count": 4,
     "metadata": {},
     "output_type": "execute_result"
    }
   ],
   "source": [
    "# We use the average of High and Low for each day to get a datapoint for each day\n",
    "dates = data.index\n",
    "highs = data[\"High\"].to_numpy()\n",
    "lows = data[\"Low\"].to_numpy()\n",
    "values = (highs + lows)/2\n",
    "np.isnan(values).any()\n"
   ]
  },
  {
   "cell_type": "code",
   "execution_count": 5,
   "id": "1baf95a2",
   "metadata": {},
   "outputs": [],
   "source": [
    "numValues = values.shape[0]\n",
    "# We compute the historical volatility, by taking the standard deviation of N consecutive days\n",
    "N = 3\n",
    "dates = dates[N -1:]\n",
    "N_consec_Days = np.zeros((numValues - N +1, N ))\n",
    "\n",
    "for i in range(N):\n",
    "    N_consec_Days[:, i] = values[i: numValues- (N -i)+1]\n",
    "\n",
    "vol_historic_as_std_N_Days = np.var(N_consec_Days, axis = 1)\n",
    "\n",
    "hist_vol = vol_historic_as_std_N_Days\n",
    "\n",
    "# vol_historic_LogReturns = np.log(np.maximum(values[:-1] / values[1:], values[1:] / values[:-1]))"
   ]
  },
  {
   "cell_type": "code",
   "execution_count": 6,
   "id": "c89b8cf8",
   "metadata": {},
   "outputs": [
    {
     "name": "stderr",
     "output_type": "stream",
     "text": [
      "C:\\Users\\seand\\AppData\\Local\\Temp\\ipykernel_2500\\3738410109.py:2: MatplotlibDeprecationWarning: The plot_date function was deprecated in Matplotlib 3.9 and will be removed in 3.11. Use plot instead.\n",
      "  plt.plot_date(dates, hist_vol, 'b')\n"
     ]
    },
    {
     "data": {
      "text/plain": [
       "Text(0.5, 1.0, 'Historical Volatility for Tesla stock')"
      ]
     },
     "execution_count": 6,
     "metadata": {},
     "output_type": "execute_result"
    },
    {
     "data": {
      "image/png": "[encoded data removed]",
      "text/plain": [
       "<Figure size 1000x400 with 1 Axes>"
      ]
     },
     "metadata": {},
     "output_type": "display_data"
    }
   ],
   "source": [
    "plt.figure(figsize=(10,4))\n",
    "plt.plot_date(dates, hist_vol, 'b')\n",
    "plt.title('Historical Volatility for Tesla stock', fontsize=20)"
   ]
  },
  {
   "cell_type": "markdown",
   "id": "21a17f70",
   "metadata": {},
   "source": [
    "## PACF plot"
   ]
  },
  {
   "cell_type": "code",
   "execution_count": 7,
   "id": "8a49b493",
   "metadata": {},
   "outputs": [
    {
     "data": {
      "image/png": "[encoded data removed]",
      "text/plain": [
       "<Figure size 640x480 with 1 Axes>"
      ]
     },
     "metadata": {},
     "output_type": "display_data"
    }
   ],
   "source": [
    "plot_pacf(np.array(hist_vol)**2)\n",
    "plt.show()"
   ]
  },
  {
   "cell_type": "markdown",
   "id": "b171a918",
   "metadata": {},
   "source": [
    "Let's start with a GARCH(3,3) model and see what happens."
   ]
  },
  {
   "cell_type": "markdown",
   "id": "1aca0ced",
   "metadata": {},
   "source": [
    "## GARCH(3,3)"
   ]
  },
  {
   "cell_type": "code",
   "execution_count": 8,
   "id": "1c2dea61",
   "metadata": {},
   "outputs": [],
   "source": [
    "model = arch_model(hist_vol, p=3, q=3)"
   ]
  },
  {
   "cell_type": "code",
   "execution_count": 9,
   "id": "e3039002",
   "metadata": {},
   "outputs": [
    {
     "name": "stdout",
     "output_type": "stream",
     "text": [
      "Iteration:      1,   Func. Count:     10,   Neg. LLF: 9759.117252977983\n",
      "Iteration:      2,   Func. Count:     20,   Neg. LLF: 11632.912990774475\n",
      "Iteration:      3,   Func. Count:     32,   Neg. LLF: 7304.271635362899\n",
      "Iteration:      4,   Func. Count:     42,   Neg. LLF: 7169.409319140286\n",
      "Iteration:      5,   Func. Count:     52,   Neg. LLF: 7127.4081278905705\n",
      "Iteration:      6,   Func. Count:     61,   Neg. LLF: 7335.077773515952\n",
      "Iteration:      7,   Func. Count:     72,   Neg. LLF: 7141.137943088199\n",
      "Iteration:      8,   Func. Count:     82,   Neg. LLF: 7121.209293044436\n",
      "Iteration:      9,   Func. Count:     91,   Neg. LLF: 7120.2683022389965\n",
      "Iteration:     10,   Func. Count:    100,   Neg. LLF: 7115.769485184195\n",
      "Iteration:     11,   Func. Count:    109,   Neg. LLF: 7111.479654950197\n",
      "Iteration:     12,   Func. Count:    118,   Neg. LLF: 7106.466878008534\n",
      "Iteration:     13,   Func. Count:    127,   Neg. LLF: 7102.6155449313155\n",
      "Iteration:     14,   Func. Count:    136,   Neg. LLF: 7101.737185862448\n",
      "Iteration:     15,   Func. Count:    145,   Neg. LLF: 7101.595733104037\n",
      "Iteration:     16,   Func. Count:    154,   Neg. LLF: 7101.574083658836\n",
      "Iteration:     17,   Func. Count:    163,   Neg. LLF: 7101.532798765891\n",
      "Iteration:     18,   Func. Count:    172,   Neg. LLF: 7101.480016005994\n",
      "Iteration:     19,   Func. Count:    181,   Neg. LLF: 7101.447906555093\n",
      "Iteration:     20,   Func. Count:    190,   Neg. LLF: 7101.441687089968\n",
      "Iteration:     21,   Func. Count:    199,   Neg. LLF: 7101.441166473715\n",
      "Iteration:     22,   Func. Count:    208,   Neg. LLF: 7101.441152278918\n",
      "Iteration:     23,   Func. Count:    217,   Neg. LLF: 7101.48506849831\n",
      "Optimization terminated successfully    (Exit mode 0)\n",
      "            Current function value: 7101.4411522607925\n",
      "            Iterations: 24\n",
      "            Function evaluations: 220\n",
      "            Gradient evaluations: 23\n"
     ]
    }
   ],
   "source": [
    "model_fit = model.fit()"
   ]
  },
  {
   "cell_type": "code",
   "execution_count": 10,
   "id": "cd4693f4",
   "metadata": {},
   "outputs": [
    {
     "data": {
      "text/html": [
       "<table class=\"simpletable\">\n",
       "<caption>Constant Mean - GARCH Model Results</caption>\n",
       "<tr>\n",
       "  <th>Dep. Variable:</th>          <td>y</td>         <th>  R-squared:         </th>  <td>   0.000</td> \n",
       "</tr>\n",
       "<tr>\n",
       "  <th>Mean Model:</th>       <td>Constant Mean</td>   <th>  Adj. R-squared:    </th>  <td>   0.000</td> \n",
       "</tr>\n",
       "<tr>\n",
       "  <th>Vol Model:</th>            <td>GARCH</td>       <th>  Log-Likelihood:    </th> <td>  -7101.44</td>\n",
       "</tr>\n",
       "<tr>\n",
       "  <th>Distribution:</th>        <td>Normal</td>       <th>  AIC:               </th> <td>   14218.9</td>\n",
       "</tr>\n",
       "<tr>\n",
       "  <th>Method:</th>        <td>Maximum Likelihood</td> <th>  BIC:               </th> <td>   14260.9</td>\n",
       "</tr>\n",
       "<tr>\n",
       "  <th></th>                        <td></td>          <th>  No. Observations:  </th>    <td>1408</td>   \n",
       "</tr>\n",
       "<tr>\n",
       "  <th>Date:</th>           <td>Wed, Aug 13 2025</td>  <th>  Df Residuals:      </th>    <td>1407</td>   \n",
       "</tr>\n",
       "<tr>\n",
       "  <th>Time:</th>               <td>15:04:03</td>      <th>  Df Model:          </th>      <td>1</td>    \n",
       "</tr>\n",
       "</table>\n",
       "<table class=\"simpletable\">\n",
       "<caption>Mean Model</caption>\n",
       "<tr>\n",
       "   <td></td>     <th>coef</th>     <th>std err</th>      <th>t</th>       <th>P>|t|</th>   <th>95.0% Conf. Int.</th> \n",
       "</tr>\n",
       "<tr>\n",
       "  <th>mu</th> <td>   13.0218</td> <td>    2.301</td> <td>    5.659</td> <td>1.526e-08</td> <td>[  8.512, 17.532]</td>\n",
       "</tr>\n",
       "</table>\n",
       "<table class=\"simpletable\">\n",
       "<caption>Volatility Model</caption>\n",
       "<tr>\n",
       "      <td></td>        <th>coef</th>     <th>std err</th>      <th>t</th>       <th>P>|t|</th>    <th>95.0% Conf. Int.</th>  \n",
       "</tr>\n",
       "<tr>\n",
       "  <th>omega</th>    <td>  138.5935</td> <td>   81.680</td> <td>    1.697</td> <td>8.974e-02</td> <td>[-21.497,2.987e+02]</td>\n",
       "</tr>\n",
       "<tr>\n",
       "  <th>alpha[1]</th> <td>    0.4021</td> <td>    0.186</td> <td>    2.163</td> <td>3.053e-02</td> <td>[3.778e-02,  0.767]</td>\n",
       "</tr>\n",
       "<tr>\n",
       "  <th>alpha[2]</th> <td>1.7434e-09</td> <td>    0.188</td> <td>9.274e-09</td> <td>    1.000</td>  <td>[ -0.368,  0.368]</td> \n",
       "</tr>\n",
       "<tr>\n",
       "  <th>alpha[3]</th> <td>1.4487e-09</td> <td>    0.303</td> <td>4.786e-09</td> <td>    1.000</td>  <td>[ -0.593,  0.593]</td> \n",
       "</tr>\n",
       "<tr>\n",
       "  <th>beta[1]</th>  <td>6.8449e-09</td> <td>    0.386</td> <td>1.774e-08</td> <td>    1.000</td>  <td>[ -0.756,  0.756]</td> \n",
       "</tr>\n",
       "<tr>\n",
       "  <th>beta[2]</th>  <td>    0.3672</td> <td>    0.282</td> <td>    1.300</td> <td>    0.194</td>  <td>[ -0.186,  0.921]</td> \n",
       "</tr>\n",
       "<tr>\n",
       "  <th>beta[3]</th>  <td>    0.2306</td> <td>    0.185</td> <td>    1.247</td> <td>    0.212</td>  <td>[ -0.132,  0.593]</td> \n",
       "</tr>\n",
       "</table><br/><br/>Covariance estimator: robust"
      ],
      "text/latex": [
       "\\begin{center}\n",
       "\\begin{tabular}{lclc}\n",
       "\\toprule\n",
       "\\textbf{Dep. Variable:} &         y          & \\textbf{  R-squared:         } &     0.000   \\\\\n",
       "\\textbf{Mean Model:}    &   Constant Mean    & \\textbf{  Adj. R-squared:    } &     0.000   \\\\\n",
       "\\textbf{Vol Model:}     &       GARCH        & \\textbf{  Log-Likelihood:    } &   -7101.44  \\\\\n",
       "\\textbf{Distribution:}  &       Normal       & \\textbf{  AIC:               } &    14218.9  \\\\\n",
       "\\textbf{Method:}        & Maximum Likelihood & \\textbf{  BIC:               } &    14260.9  \\\\\n",
       "\\textbf{}               &                    & \\textbf{  No. Observations:  } &    1408     \\\\\n",
       "\\textbf{Date:}          &  Wed, Aug 13 2025  & \\textbf{  Df Residuals:      } &    1407     \\\\\n",
       "\\textbf{Time:}          &      15:04:03      & \\textbf{  Df Model:          } &     1       \\\\\n",
       "\\bottomrule\n",
       "\\end{tabular}\n",
       "\\begin{tabular}{lccccc}\n",
       "            & \\textbf{coef} & \\textbf{std err} & \\textbf{t} & \\textbf{P$> |$t$|$} & \\textbf{95.0\\% Conf. Int.}  \\\\\n",
       "\\midrule\n",
       "\\textbf{mu} &      13.0218  &        2.301     &     5.659  &      1.526e-08       &     [  8.512, 17.532]       \\\\\n",
       "                  & \\textbf{coef} & \\textbf{std err} & \\textbf{t} & \\textbf{P$> |$t$|$} & \\textbf{95.0\\% Conf. Int.}  \\\\\n",
       "\\midrule\n",
       "\\textbf{omega}    &     138.5935  &       81.680     &     1.697  &      8.974e-02       &    [-21.497,2.987e+02]      \\\\\n",
       "\\textbf{alpha[1]} &       0.4021  &        0.186     &     2.163  &      3.053e-02       &    [3.778e-02,  0.767]      \\\\\n",
       "\\textbf{alpha[2]} &   1.7434e-09  &        0.188     & 9.274e-09  &          1.000       &     [ -0.368,  0.368]       \\\\\n",
       "\\textbf{alpha[3]} &   1.4487e-09  &        0.303     & 4.786e-09  &          1.000       &     [ -0.593,  0.593]       \\\\\n",
       "\\textbf{beta[1]}  &   6.8449e-09  &        0.386     & 1.774e-08  &          1.000       &     [ -0.756,  0.756]       \\\\\n",
       "\\textbf{beta[2]}  &       0.3672  &        0.282     &     1.300  &          0.194       &     [ -0.186,  0.921]       \\\\\n",
       "\\textbf{beta[3]}  &       0.2306  &        0.185     &     1.247  &          0.212       &     [ -0.132,  0.593]       \\\\\n",
       "\\bottomrule\n",
       "\\end{tabular}\n",
       "%\\caption{Constant Mean - GARCH Model Results}\n",
       "\\end{center}\n",
       "\n",
       "Covariance estimator: robust"
      ],
      "text/plain": [
       "<class 'statsmodels.iolib.summary.Summary'>\n",
       "\"\"\"\n",
       "                     Constant Mean - GARCH Model Results                      \n",
       "==============================================================================\n",
       "Dep. Variable:                      y   R-squared:                       0.000\n",
       "Mean Model:             Constant Mean   Adj. R-squared:                  0.000\n",
       "Vol Model:                      GARCH   Log-Likelihood:               -7101.44\n",
       "Distribution:                  Normal   AIC:                           14218.9\n",
       "Method:            Maximum Likelihood   BIC:                           14260.9\n",
       "                                        No. Observations:                 1408\n",
       "Date:                Wed, Aug 13 2025   Df Residuals:                     1407\n",
       "Time:                        15:04:03   Df Model:                            1\n",
       "                               Mean Model                               \n",
       "========================================================================\n",
       "                 coef    std err          t      P>|t|  95.0% Conf. Int.\n",
       "------------------------------------------------------------------------\n",
       "mu            13.0218      2.301      5.659  1.526e-08 [  8.512, 17.532]\n",
       "                             Volatility Model                             \n",
       "==========================================================================\n",
       "                 coef    std err          t      P>|t|    95.0% Conf. Int.\n",
       "--------------------------------------------------------------------------\n",
       "omega        138.5935     81.680      1.697  8.974e-02 [-21.497,2.987e+02]\n",
       "alpha[1]       0.4021      0.186      2.163  3.053e-02 [3.778e-02,  0.767]\n",
       "alpha[2]   1.7434e-09      0.188  9.274e-09      1.000   [ -0.368,  0.368]\n",
       "alpha[3]   1.4487e-09      0.303  4.786e-09      1.000   [ -0.593,  0.593]\n",
       "beta[1]    6.8449e-09      0.386  1.774e-08      1.000   [ -0.756,  0.756]\n",
       "beta[2]        0.3672      0.282      1.300      0.194   [ -0.186,  0.921]\n",
       "beta[3]        0.2306      0.185      1.247      0.212   [ -0.132,  0.593]\n",
       "==========================================================================\n",
       "\n",
       "Covariance estimator: robust\n",
       "\"\"\""
      ]
     },
     "execution_count": 10,
     "metadata": {},
     "output_type": "execute_result"
    }
   ],
   "source": [
    "model_fit.summary()"
   ]
  },
  {
   "cell_type": "markdown",
   "id": "452dd268",
   "metadata": {},
   "source": [
    "Seems like GARCH(3,3) was an overfit (see P values). We should try ARCH(1)"
   ]
  },
  {
   "cell_type": "markdown",
   "id": "13c8b708",
   "metadata": {},
   "source": [
    "## ARCH(1)"
   ]
  },
  {
   "cell_type": "code",
   "execution_count": 11,
   "id": "4a091c92",
   "metadata": {},
   "outputs": [],
   "source": [
    "model = arch_model(hist_vol, p=1, q=0)"
   ]
  },
  {
   "cell_type": "code",
   "execution_count": 12,
   "id": "5db74493",
   "metadata": {},
   "outputs": [
    {
     "name": "stdout",
     "output_type": "stream",
     "text": [
      "Iteration:      1,   Func. Count:      5,   Neg. LLF: 7284.651292683362\n",
      "Iteration:      2,   Func. Count:      9,   Neg. LLF: 164231.7060437508\n",
      "Iteration:      3,   Func. Count:     15,   Neg. LLF: 7257.105734473612\n",
      "Iteration:      4,   Func. Count:     19,   Neg. LLF: 7257.081786575539\n",
      "Iteration:      5,   Func. Count:     23,   Neg. LLF: 7257.067944884704\n",
      "Iteration:      6,   Func. Count:     27,   Neg. LLF: 7256.993746349305\n",
      "Iteration:      7,   Func. Count:     31,   Neg. LLF: 7256.851091367576\n",
      "Iteration:      8,   Func. Count:     35,   Neg. LLF: 7256.515709274949\n",
      "Iteration:      9,   Func. Count:     39,   Neg. LLF: 7255.897774107792\n",
      "Iteration:     10,   Func. Count:     43,   Neg. LLF: 7254.7478981785625\n",
      "Iteration:     11,   Func. Count:     47,   Neg. LLF: 7252.507046008626\n",
      "Iteration:     12,   Func. Count:     51,   Neg. LLF: 7248.116989845025\n",
      "Iteration:     13,   Func. Count:     55,   Neg. LLF: 7242.504388119538\n",
      "Iteration:     14,   Func. Count:     59,   Neg. LLF: 7236.401054743985\n",
      "Iteration:     15,   Func. Count:     63,   Neg. LLF: 7233.810334048819\n",
      "Iteration:     16,   Func. Count:     67,   Neg. LLF: 7233.160622613727\n",
      "Iteration:     17,   Func. Count:     71,   Neg. LLF: 7233.159126653229\n",
      "Iteration:     18,   Func. Count:     75,   Neg. LLF: 7233.15911943589\n",
      "Iteration:     19,   Func. Count:     79,   Neg. LLF: 7233.159275569362\n",
      "Optimization terminated successfully    (Exit mode 0)\n",
      "            Current function value: 7233.1591192894875\n",
      "            Iterations: 19\n",
      "            Function evaluations: 82\n",
      "            Gradient evaluations: 19\n"
     ]
    }
   ],
   "source": [
    "model_fit = model.fit()"
   ]
  },
  {
   "cell_type": "code",
   "execution_count": 13,
   "id": "3614a82d",
   "metadata": {},
   "outputs": [
    {
     "data": {
      "text/html": [
       "<table class=\"simpletable\">\n",
       "<caption>Constant Mean - ARCH Model Results</caption>\n",
       "<tr>\n",
       "  <th>Dep. Variable:</th>          <td>y</td>         <th>  R-squared:         </th>  <td>   0.000</td> \n",
       "</tr>\n",
       "<tr>\n",
       "  <th>Mean Model:</th>       <td>Constant Mean</td>   <th>  Adj. R-squared:    </th>  <td>   0.000</td> \n",
       "</tr>\n",
       "<tr>\n",
       "  <th>Vol Model:</th>            <td>ARCH</td>        <th>  Log-Likelihood:    </th> <td>  -7233.16</td>\n",
       "</tr>\n",
       "<tr>\n",
       "  <th>Distribution:</th>        <td>Normal</td>       <th>  AIC:               </th> <td>   14472.3</td>\n",
       "</tr>\n",
       "<tr>\n",
       "  <th>Method:</th>        <td>Maximum Likelihood</td> <th>  BIC:               </th> <td>   14488.1</td>\n",
       "</tr>\n",
       "<tr>\n",
       "  <th></th>                        <td></td>          <th>  No. Observations:  </th>    <td>1408</td>   \n",
       "</tr>\n",
       "<tr>\n",
       "  <th>Date:</th>           <td>Wed, Aug 13 2025</td>  <th>  Df Residuals:      </th>    <td>1407</td>   \n",
       "</tr>\n",
       "<tr>\n",
       "  <th>Time:</th>               <td>15:04:03</td>      <th>  Df Model:          </th>      <td>1</td>    \n",
       "</tr>\n",
       "</table>\n",
       "<table class=\"simpletable\">\n",
       "<caption>Mean Model</caption>\n",
       "<tr>\n",
       "   <td></td>     <th>coef</th>     <th>std err</th>      <th>t</th>       <th>P>|t|</th>   <th>95.0% Conf. Int.</th> \n",
       "</tr>\n",
       "<tr>\n",
       "  <th>mu</th> <td>   14.5881</td> <td>    2.889</td> <td>    5.050</td> <td>4.429e-07</td> <td>[  8.926, 20.250]</td>\n",
       "</tr>\n",
       "</table>\n",
       "<table class=\"simpletable\">\n",
       "<caption>Volatility Model</caption>\n",
       "<tr>\n",
       "      <td></td>        <th>coef</th>     <th>std err</th>      <th>t</th>       <th>P>|t|</th>     <th>95.0% Conf. Int.</th>   \n",
       "</tr>\n",
       "<tr>\n",
       "  <th>omega</th>    <td>  985.5403</td> <td>  255.858</td> <td>    3.852</td> <td>1.172e-04</td> <td>[4.841e+02,1.487e+03]</td>\n",
       "</tr>\n",
       "<tr>\n",
       "  <th>alpha[1]</th> <td>    1.0000</td> <td>    0.272</td> <td>    3.674</td> <td>2.389e-04</td>   <td>[  0.467,  1.533]</td>  \n",
       "</tr>\n",
       "</table><br/><br/>Covariance estimator: robust"
      ],
      "text/latex": [
       "\\begin{center}\n",
       "\\begin{tabular}{lclc}\n",
       "\\toprule\n",
       "\\textbf{Dep. Variable:} &         y          & \\textbf{  R-squared:         } &     0.000   \\\\\n",
       "\\textbf{Mean Model:}    &   Constant Mean    & \\textbf{  Adj. R-squared:    } &     0.000   \\\\\n",
       "\\textbf{Vol Model:}     &        ARCH        & \\textbf{  Log-Likelihood:    } &   -7233.16  \\\\\n",
       "\\textbf{Distribution:}  &       Normal       & \\textbf{  AIC:               } &    14472.3  \\\\\n",
       "\\textbf{Method:}        & Maximum Likelihood & \\textbf{  BIC:               } &    14488.1  \\\\\n",
       "\\textbf{}               &                    & \\textbf{  No. Observations:  } &    1408     \\\\\n",
       "\\textbf{Date:}          &  Wed, Aug 13 2025  & \\textbf{  Df Residuals:      } &    1407     \\\\\n",
       "\\textbf{Time:}          &      15:04:03      & \\textbf{  Df Model:          } &     1       \\\\\n",
       "\\bottomrule\n",
       "\\end{tabular}\n",
       "\\begin{tabular}{lccccc}\n",
       "            & \\textbf{coef} & \\textbf{std err} & \\textbf{t} & \\textbf{P$> |$t$|$} & \\textbf{95.0\\% Conf. Int.}  \\\\\n",
       "\\midrule\n",
       "\\textbf{mu} &      14.5881  &        2.889     &     5.050  &      4.429e-07       &     [  8.926, 20.250]       \\\\\n",
       "                  & \\textbf{coef} & \\textbf{std err} & \\textbf{t} & \\textbf{P$> |$t$|$} & \\textbf{95.0\\% Conf. Int.}  \\\\\n",
       "\\midrule\n",
       "\\textbf{omega}    &     985.5403  &      255.858     &     3.852  &      1.172e-04       &   [4.841e+02,1.487e+03]     \\\\\n",
       "\\textbf{alpha[1]} &       1.0000  &        0.272     &     3.674  &      2.389e-04       &     [  0.467,  1.533]       \\\\\n",
       "\\bottomrule\n",
       "\\end{tabular}\n",
       "%\\caption{Constant Mean - ARCH Model Results}\n",
       "\\end{center}\n",
       "\n",
       "Covariance estimator: robust"
      ],
      "text/plain": [
       "<class 'statsmodels.iolib.summary.Summary'>\n",
       "\"\"\"\n",
       "                      Constant Mean - ARCH Model Results                      \n",
       "==============================================================================\n",
       "Dep. Variable:                      y   R-squared:                       0.000\n",
       "Mean Model:             Constant Mean   Adj. R-squared:                  0.000\n",
       "Vol Model:                       ARCH   Log-Likelihood:               -7233.16\n",
       "Distribution:                  Normal   AIC:                           14472.3\n",
       "Method:            Maximum Likelihood   BIC:                           14488.1\n",
       "                                        No. Observations:                 1408\n",
       "Date:                Wed, Aug 13 2025   Df Residuals:                     1407\n",
       "Time:                        15:04:03   Df Model:                            1\n",
       "                               Mean Model                               \n",
       "========================================================================\n",
       "                 coef    std err          t      P>|t|  95.0% Conf. Int.\n",
       "------------------------------------------------------------------------\n",
       "mu            14.5881      2.889      5.050  4.429e-07 [  8.926, 20.250]\n",
       "                              Volatility Model                              \n",
       "============================================================================\n",
       "                 coef    std err          t      P>|t|      95.0% Conf. Int.\n",
       "----------------------------------------------------------------------------\n",
       "omega        985.5403    255.858      3.852  1.172e-04 [4.841e+02,1.487e+03]\n",
       "alpha[1]       1.0000      0.272      3.674  2.389e-04     [  0.467,  1.533]\n",
       "============================================================================\n",
       "\n",
       "Covariance estimator: robust\n",
       "\"\"\""
      ]
     },
     "execution_count": 13,
     "metadata": {},
     "output_type": "execute_result"
    }
   ],
   "source": [
    "model_fit.summary()"
   ]
  },
  {
   "cell_type": "markdown",
   "id": "aba16013",
   "metadata": {},
   "source": [
    "This now looks good. But let's also try GARCH(1,2)"
   ]
  },
  {
   "cell_type": "markdown",
   "id": "d5d8be84",
   "metadata": {},
   "source": [
    "## GARCH(1,2)"
   ]
  },
  {
   "cell_type": "code",
   "execution_count": 42,
   "id": "5bdee02a",
   "metadata": {},
   "outputs": [],
   "source": [
    "model = arch_model(hist_vol, p=1, q=2)"
   ]
  },
  {
   "cell_type": "code",
   "execution_count": 43,
   "id": "8bf240d8",
   "metadata": {},
   "outputs": [
    {
     "name": "stdout",
     "output_type": "stream",
     "text": [
      "Iteration:      1,   Func. Count:      7,   Neg. LLF: 9647.998443319932\n",
      "Iteration:      2,   Func. Count:     14,   Neg. LLF: 19949534.22421068\n",
      "Iteration:      3,   Func. Count:     23,   Neg. LLF: 7126.750679120501\n",
      "Iteration:      4,   Func. Count:     29,   Neg. LLF: 8525.031059691333\n",
      "Iteration:      5,   Func. Count:     37,   Neg. LLF: 7163.992802361411\n",
      "Iteration:      6,   Func. Count:     44,   Neg. LLF: 7124.024925564649\n",
      "Iteration:      7,   Func. Count:     50,   Neg. LLF: 7122.466829255024\n",
      "Iteration:      8,   Func. Count:     56,   Neg. LLF: 7118.158092988166\n",
      "Iteration:      9,   Func. Count:     62,   Neg. LLF: 7113.370861179676\n",
      "Iteration:     10,   Func. Count:     68,   Neg. LLF: 7110.127203826952\n",
      "Iteration:     11,   Func. Count:     74,   Neg. LLF: 7109.775186280515\n",
      "Iteration:     12,   Func. Count:     80,   Neg. LLF: 7109.727724608526\n",
      "Iteration:     13,   Func. Count:     86,   Neg. LLF: 7109.712542631903\n",
      "Iteration:     14,   Func. Count:     92,   Neg. LLF: 7109.710300092725\n",
      "Iteration:     15,   Func. Count:     98,   Neg. LLF: 7109.709964196298\n",
      "Iteration:     16,   Func. Count:    104,   Neg. LLF: 7109.709883514786\n",
      "Iteration:     17,   Func. Count:    110,   Neg. LLF: 7109.709875258558\n",
      "Iteration:     18,   Func. Count:    116,   Neg. LLF: 7109.709873594691\n",
      "Iteration:     19,   Func. Count:    122,   Neg. LLF: 7109.712618725453\n",
      "Optimization terminated successfully    (Exit mode 0)\n",
      "            Current function value: 7109.709873593065\n",
      "            Iterations: 20\n",
      "            Function evaluations: 125\n",
      "            Gradient evaluations: 19\n"
     ]
    }
   ],
   "source": [
    "model_fit = model.fit()"
   ]
  },
  {
   "cell_type": "code",
   "execution_count": 44,
   "id": "a07d342d",
   "metadata": {},
   "outputs": [
    {
     "data": {
      "text/html": [
       "<table class=\"simpletable\">\n",
       "<caption>Constant Mean - GARCH Model Results</caption>\n",
       "<tr>\n",
       "  <th>Dep. Variable:</th>          <td>y</td>         <th>  R-squared:         </th>  <td>   0.000</td> \n",
       "</tr>\n",
       "<tr>\n",
       "  <th>Mean Model:</th>       <td>Constant Mean</td>   <th>  Adj. R-squared:    </th>  <td>   0.000</td> \n",
       "</tr>\n",
       "<tr>\n",
       "  <th>Vol Model:</th>            <td>GARCH</td>       <th>  Log-Likelihood:    </th> <td>  -7109.71</td>\n",
       "</tr>\n",
       "<tr>\n",
       "  <th>Distribution:</th>        <td>Normal</td>       <th>  AIC:               </th> <td>   14229.4</td>\n",
       "</tr>\n",
       "<tr>\n",
       "  <th>Method:</th>        <td>Maximum Likelihood</td> <th>  BIC:               </th> <td>   14255.7</td>\n",
       "</tr>\n",
       "<tr>\n",
       "  <th></th>                        <td></td>          <th>  No. Observations:  </th>    <td>1408</td>   \n",
       "</tr>\n",
       "<tr>\n",
       "  <th>Date:</th>           <td>Wed, Aug 13 2025</td>  <th>  Df Residuals:      </th>    <td>1407</td>   \n",
       "</tr>\n",
       "<tr>\n",
       "  <th>Time:</th>               <td>15:07:45</td>      <th>  Df Model:          </th>      <td>1</td>    \n",
       "</tr>\n",
       "</table>\n",
       "<table class=\"simpletable\">\n",
       "<caption>Mean Model</caption>\n",
       "<tr>\n",
       "   <td></td>     <th>coef</th>     <th>std err</th>      <th>t</th>       <th>P>|t|</th>   <th>95.0% Conf. Int.</th> \n",
       "</tr>\n",
       "<tr>\n",
       "  <th>mu</th> <td>   13.1370</td> <td>    2.150</td> <td>    6.109</td> <td>1.004e-09</td> <td>[  8.922, 17.352]</td>\n",
       "</tr>\n",
       "</table>\n",
       "<table class=\"simpletable\">\n",
       "<caption>Volatility Model</caption>\n",
       "<tr>\n",
       "      <td></td>        <th>coef</th>     <th>std err</th>      <th>t</th>       <th>P>|t|</th>     <th>95.0% Conf. Int.</th>  \n",
       "</tr>\n",
       "<tr>\n",
       "  <th>omega</th>    <td>  114.7874</td> <td>   69.154</td> <td>    1.660</td> <td>9.694e-02</td>  <td>[-20.753,2.503e+02]</td>\n",
       "</tr>\n",
       "<tr>\n",
       "  <th>alpha[1]</th> <td>    0.3447</td> <td>9.498e-02</td> <td>    3.629</td> <td>2.842e-04</td>   <td>[  0.159,  0.531]</td> \n",
       "</tr>\n",
       "<tr>\n",
       "  <th>beta[1]</th>  <td>    0.0273</td> <td>4.866e-02</td> <td>    0.561</td> <td>    0.575</td> <td>[-6.808e-02,  0.123]</td>\n",
       "</tr>\n",
       "<tr>\n",
       "  <th>beta[2]</th>  <td>    0.6280</td> <td>    0.105</td> <td>    5.968</td> <td>2.396e-09</td>   <td>[  0.422,  0.834]</td> \n",
       "</tr>\n",
       "</table><br/><br/>Covariance estimator: robust"
      ],
      "text/latex": [
       "\\begin{center}\n",
       "\\begin{tabular}{lclc}\n",
       "\\toprule\n",
       "\\textbf{Dep. Variable:} &         y          & \\textbf{  R-squared:         } &     0.000   \\\\\n",
       "\\textbf{Mean Model:}    &   Constant Mean    & \\textbf{  Adj. R-squared:    } &     0.000   \\\\\n",
       "\\textbf{Vol Model:}     &       GARCH        & \\textbf{  Log-Likelihood:    } &   -7109.71  \\\\\n",
       "\\textbf{Distribution:}  &       Normal       & \\textbf{  AIC:               } &    14229.4  \\\\\n",
       "\\textbf{Method:}        & Maximum Likelihood & \\textbf{  BIC:               } &    14255.7  \\\\\n",
       "\\textbf{}               &                    & \\textbf{  No. Observations:  } &    1408     \\\\\n",
       "\\textbf{Date:}          &  Wed, Aug 13 2025  & \\textbf{  Df Residuals:      } &    1407     \\\\\n",
       "\\textbf{Time:}          &      15:07:45      & \\textbf{  Df Model:          } &     1       \\\\\n",
       "\\bottomrule\n",
       "\\end{tabular}\n",
       "\\begin{tabular}{lccccc}\n",
       "            & \\textbf{coef} & \\textbf{std err} & \\textbf{t} & \\textbf{P$> |$t$|$} & \\textbf{95.0\\% Conf. Int.}  \\\\\n",
       "\\midrule\n",
       "\\textbf{mu} &      13.1370  &        2.150     &     6.109  &      1.004e-09       &     [  8.922, 17.352]       \\\\\n",
       "                  & \\textbf{coef} & \\textbf{std err} & \\textbf{t} & \\textbf{P$> |$t$|$} & \\textbf{95.0\\% Conf. Int.}  \\\\\n",
       "\\midrule\n",
       "\\textbf{omega}    &     114.7874  &       69.154     &     1.660  &      9.694e-02       &    [-20.753,2.503e+02]      \\\\\n",
       "\\textbf{alpha[1]} &       0.3447  &    9.498e-02     &     3.629  &      2.842e-04       &     [  0.159,  0.531]       \\\\\n",
       "\\textbf{beta[1]}  &       0.0273  &    4.866e-02     &     0.561  &          0.575       &    [-6.808e-02,  0.123]     \\\\\n",
       "\\textbf{beta[2]}  &       0.6280  &        0.105     &     5.968  &      2.396e-09       &     [  0.422,  0.834]       \\\\\n",
       "\\bottomrule\n",
       "\\end{tabular}\n",
       "%\\caption{Constant Mean - GARCH Model Results}\n",
       "\\end{center}\n",
       "\n",
       "Covariance estimator: robust"
      ],
      "text/plain": [
       "<class 'statsmodels.iolib.summary.Summary'>\n",
       "\"\"\"\n",
       "                     Constant Mean - GARCH Model Results                      \n",
       "==============================================================================\n",
       "Dep. Variable:                      y   R-squared:                       0.000\n",
       "Mean Model:             Constant Mean   Adj. R-squared:                  0.000\n",
       "Vol Model:                      GARCH   Log-Likelihood:               -7109.71\n",
       "Distribution:                  Normal   AIC:                           14229.4\n",
       "Method:            Maximum Likelihood   BIC:                           14255.7\n",
       "                                        No. Observations:                 1408\n",
       "Date:                Wed, Aug 13 2025   Df Residuals:                     1407\n",
       "Time:                        15:07:45   Df Model:                            1\n",
       "                               Mean Model                               \n",
       "========================================================================\n",
       "                 coef    std err          t      P>|t|  95.0% Conf. Int.\n",
       "------------------------------------------------------------------------\n",
       "mu            13.1370      2.150      6.109  1.004e-09 [  8.922, 17.352]\n",
       "                              Volatility Model                             \n",
       "===========================================================================\n",
       "                 coef    std err          t      P>|t|     95.0% Conf. Int.\n",
       "---------------------------------------------------------------------------\n",
       "omega        114.7874     69.154      1.660  9.694e-02  [-20.753,2.503e+02]\n",
       "alpha[1]       0.3447  9.498e-02      3.629  2.842e-04    [  0.159,  0.531]\n",
       "beta[1]        0.0273  4.866e-02      0.561      0.575 [-6.808e-02,  0.123]\n",
       "beta[2]        0.6280      0.105      5.968  2.396e-09    [  0.422,  0.834]\n",
       "===========================================================================\n",
       "\n",
       "Covariance estimator: robust\n",
       "\"\"\""
      ]
     },
     "execution_count": 44,
     "metadata": {},
     "output_type": "execute_result"
    }
   ],
   "source": [
    "model_fit.summary()"
   ]
  },
  {
   "cell_type": "markdown",
   "id": "2e5fe402",
   "metadata": {},
   "source": [
    "It seems like we should include the betas up to order 2 in our model after all!"
   ]
  },
  {
   "cell_type": "code",
   "execution_count": null,
   "id": "b6663b65",
   "metadata": {},
   "outputs": [],
   "source": []
  },
  {
   "cell_type": "markdown",
   "id": "a94766d2",
   "metadata": {},
   "source": [
    "## Rolling Forcast For Evaluation"
   ]
  },
  {
   "cell_type": "code",
   "execution_count": 47,
   "id": "2e4089ce",
   "metadata": {},
   "outputs": [],
   "source": [
    "rolling_predictions = []\n",
    "test_size = 100\n",
    "predictionHorizon = 3\n",
    "numItterations = test_size//predictionHorizon + int(np.ceil(test_size/predictionHorizon - test_size//predictionHorizon).item())\n",
    "\n",
    "for i in range(numItterations):\n",
    "    train = hist_vol[:-(test_size-i)]\n",
    "    model = arch_model(train, p=1, q=2)\n",
    "    model_fit = model.fit(disp='off')\n",
    "    pred = model_fit.forecast(horizon=predictionHorizon)\n",
    "    rolling_predictions = rolling_predictions + np.sqrt(pred.variance.values[0,:]).tolist()"
   ]
  },
  {
   "cell_type": "code",
   "execution_count": 48,
   "id": "e69a7dae",
   "metadata": {},
   "outputs": [],
   "source": [
    "rolling_predictions = pd.Series(rolling_predictions[:test_size], index=dates[-test_size:])"
   ]
  },
  {
   "cell_type": "code",
   "execution_count": 49,
   "id": "f313d21d",
   "metadata": {},
   "outputs": [
    {
     "name": "stderr",
     "output_type": "stream",
     "text": [
      "C:\\Users\\seand\\AppData\\Local\\Temp\\ipykernel_2500\\2943803893.py:2: MatplotlibDeprecationWarning: The plot_date function was deprecated in Matplotlib 3.9 and will be removed in 3.11. Use plot instead.\n",
      "  plt.plot_date(dates, hist_vol, 'b')\n"
     ]
    },
    {
     "data": {
      "text/plain": [
       "<matplotlib.legend.Legend at 0x2432be2d1d0>"
      ]
     },
     "execution_count": 49,
     "metadata": {},
     "output_type": "execute_result"
    },
    {
     "data": {
      "image/png": "[encoded data removed]",
      "text/plain": [
       "<Figure size 1000x400 with 1 Axes>"
      ]
     },
     "metadata": {},
     "output_type": "display_data"
    }
   ],
   "source": [
    "plt.figure(figsize=(10,4))\n",
    "plt.plot_date(dates, hist_vol, 'b')\n",
    "preds, = plt.plot(rolling_predictions, \"r\")\n",
    "plt.title('Volatility Prediction - Rolling Forecast', fontsize=20)\n",
    "plt.legend(['True Returns', 'Predicted Variance'], fontsize=16)"
   ]
  },
  {
   "cell_type": "code",
   "execution_count": 50,
   "id": "6df32f5e",
   "metadata": {},
   "outputs": [
    {
     "data": {
      "text/plain": [
       "np.float64(800.0322299632305)"
      ]
     },
     "execution_count": 50,
     "metadata": {},
     "output_type": "execute_result"
    }
   ],
   "source": [
    "np.linalg.norm(rolling_predictions.to_numpy() - hist_vol[-test_size:])"
   ]
  },
  {
   "cell_type": "markdown",
   "id": "cb2a3d2d",
   "metadata": {},
   "source": [
    "## Naive Predictor where we set the volatility of today equal to the volatility of the next few days"
   ]
  },
  {
   "cell_type": "code",
   "execution_count": 51,
   "id": "33da7bac",
   "metadata": {},
   "outputs": [],
   "source": [
    "rolling_predictions_Naive = []\n",
    "test_size = 100\n",
    "predictionHorizon = 3\n",
    "numItterations = test_size//predictionHorizon + int(np.ceil(test_size/predictionHorizon - test_size//predictionHorizon).item())\n",
    "\n",
    "for i in range(numItterations):\n",
    "    train = hist_vol[:-(test_size-i)]\n",
    "    predNaive = [hist_vol[-(test_size-i)].item()]*predictionHorizon\n",
    "    rolling_predictions_Naive = rolling_predictions_Naive + predNaive"
   ]
  },
  {
   "cell_type": "code",
   "execution_count": 52,
   "id": "47defd9e",
   "metadata": {},
   "outputs": [],
   "source": [
    "rolling_predictions_Naive = pd.Series(rolling_predictions_Naive[:test_size], index=dates[-test_size:])"
   ]
  },
  {
   "cell_type": "code",
   "execution_count": 53,
   "id": "9e6c5f5e",
   "metadata": {},
   "outputs": [
    {
     "name": "stderr",
     "output_type": "stream",
     "text": [
      "C:\\Users\\seand\\AppData\\Local\\Temp\\ipykernel_2500\\1497863642.py:2: MatplotlibDeprecationWarning: The plot_date function was deprecated in Matplotlib 3.9 and will be removed in 3.11. Use plot instead.\n",
      "  plt.plot_date(dates, hist_vol, 'b')\n"
     ]
    },
    {
     "data": {
      "text/plain": [
       "<matplotlib.legend.Legend at 0x2432c5e0050>"
      ]
     },
     "execution_count": 53,
     "metadata": {},
     "output_type": "execute_result"
    },
    {
     "data": {
      "image/png": "[encoded data removed]",
      "text/plain": [
       "<Figure size 1000x400 with 1 Axes>"
      ]
     },
     "metadata": {},
     "output_type": "display_data"
    }
   ],
   "source": [
    "plt.figure(figsize=(10,4))\n",
    "plt.plot_date(dates, hist_vol, 'b')\n",
    "preds, = plt.plot(rolling_predictions_Naive, \"r\")\n",
    "plt.title('Volatility Prediction - Rolling Forecast', fontsize=20)\n",
    "plt.legend(['True Returns', 'Predicted Variance'], fontsize=16)"
   ]
  },
  {
   "cell_type": "code",
   "execution_count": 54,
   "id": "26bb86e2",
   "metadata": {},
   "outputs": [
    {
     "data": {
      "text/plain": [
       "np.float64(930.5392541299163)"
      ]
     },
     "execution_count": 54,
     "metadata": {},
     "output_type": "execute_result"
    }
   ],
   "source": [
    "np.linalg.norm(rolling_predictions_Naive.to_numpy() - hist_vol[-test_size:])"
   ]
  },
  {
   "cell_type": "markdown",
   "id": "3066be53",
   "metadata": {},
   "source": [
    "#### Recap of what we did so far:\n",
    "\n",
    "We used the volatility of a day to compute the volatility 3 days in advance. This performed slightly better than just using the volatility from the day prior as estimator for 3 days in advance. We saw, that our GARCH(1,2) model performed better, than just a naive estimator measured in terms of the erros for each day in L2 norm."
   ]
  },
  {
   "cell_type": "markdown",
   "id": "e146335f",
   "metadata": {},
   "source": [
    "## Pricing Tesla Options under Black Scholes with predicted volatility"
   ]
  },
  {
   "cell_type": "code",
   "execution_count": null,
   "id": "ebf5d2dc",
   "metadata": {},
   "outputs": [],
   "source": []
  },
  {
   "cell_type": "code",
   "execution_count": null,
   "id": "b7067722",
   "metadata": {},
   "outputs": [],
   "source": []
  },
  {
   "cell_type": "code",
   "execution_count": null,
   "id": "ae69b240",
   "metadata": {},
   "outputs": [],
   "source": []
  }
 ],
 "metadata": {
  "kernelspec": {
   "display_name": "quant",
   "language": "python",
   "name": "python3"
  },
  "language_info": {
   "codemirror_mode": {
    "name": "ipython",
    "version": 3
   },
   "file_extension": ".py",
   "mimetype": "text/x-python",
   "name": "python",
   "nbconvert_exporter": "python",
   "pygments_lexer": "ipython3",
   "version": "3.13.5"
  }
 },
 "nbformat": 4,
 "nbformat_minor": 5
}
